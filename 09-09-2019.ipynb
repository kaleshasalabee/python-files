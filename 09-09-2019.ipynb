{
 "cells": [
  {
   "cell_type": "markdown",
   "metadata": {},
   "source": [
    "## grater value"
   ]
  },
  {
   "cell_type": "code",
   "execution_count": 5,
   "metadata": {},
   "outputs": [
    {
     "data": {
      "text/plain": [
       "[88, 55, 10]"
      ]
     },
     "execution_count": 5,
     "metadata": {},
     "output_type": "execute_result"
    }
   ],
   "source": [
    "li=[10,55,88]\n",
    "li.sort(reverse=True)\n",
    "li\n",
    "\n",
    "\n"
   ]
  },
  {
   "cell_type": "code",
   "execution_count": 9,
   "metadata": {},
   "outputs": [
    {
     "name": "stdout",
     "output_type": "stream",
     "text": [
      "3\n"
     ]
    }
   ],
   "source": [
    "l=[1,2,3,4,5,1,3,2,4,3,6,7,4,3,3,3]\n",
    "d={}\n",
    "for i in l:\n",
    "    d[i]=l.count(i)\n",
    "m=max(d.values())\n",
    "for k in d:\n",
    "    if d[k]==m:\n",
    "        print(k)\n",
    "    \n"
   ]
  },
  {
   "cell_type": "code",
   "execution_count": 1,
   "metadata": {},
   "outputs": [
    {
     "name": "stdout",
     "output_type": "stream",
     "text": [
      "enter a namei am kalesha vali\n",
      "i\n",
      " \n",
      "a\n",
      "m\n",
      " \n",
      "k\n",
      "a\n",
      "l\n",
      "e\n",
      "s\n",
      "h\n",
      "a\n",
      " \n",
      "v\n",
      "a\n",
      "l\n",
      "i\n"
     ]
    }
   ],
   "source": [
    "k=(input(\"enter a name\"))\n",
    "y=k.split()\n",
    "\n",
    "for i in k:\n",
    "    print(i)"
   ]
  },
  {
   "cell_type": "code",
   "execution_count": 3,
   "metadata": {},
   "outputs": [
    {
     "name": "stdout",
     "output_type": "stream",
     "text": [
      "i\n",
      " \n",
      "a\n",
      "m\n",
      " \n",
      "k\n",
      "a\n",
      "l\n",
      "e\n",
      "s\n",
      "h\n",
      "a\n",
      " \n",
      "v\n",
      "a\n",
      "l\n",
      "i\n",
      "a -> 4\n"
     ]
    }
   ],
   "source": [
    "l=(\"kalesha vali\")\n",
    "s=l.split()\n",
    "d={}\n",
    "for i in k:\n",
    "    print(i)\n",
    "    d[i]=k.count(i)\n",
    "m=max(d.values())\n",
    "for k in d:\n",
    "    if d[k]==m:\n",
    "            print(k,\"->\",m)\n",
    "        "
   ]
  },
  {
   "cell_type": "code",
   "execution_count": null,
   "metadata": {},
   "outputs": [],
   "source": []
  }
 ],
 "metadata": {
  "kernelspec": {
   "display_name": "Python 3",
   "language": "python",
   "name": "python3"
  },
  "language_info": {
   "codemirror_mode": {
    "name": "ipython",
    "version": 3
   },
   "file_extension": ".py",
   "mimetype": "text/x-python",
   "name": "python",
   "nbconvert_exporter": "python",
   "pygments_lexer": "ipython3",
   "version": "3.7.3"
  }
 },
 "nbformat": 4,
 "nbformat_minor": 2
}
